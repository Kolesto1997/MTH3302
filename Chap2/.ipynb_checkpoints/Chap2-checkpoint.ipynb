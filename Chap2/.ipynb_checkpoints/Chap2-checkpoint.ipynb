{
 "cells": [
  {
   "cell_type": "markdown",
   "metadata": {},
   "source": [
    "# MTH3302 : Méthodes probabilistes et statistiques pour l'I.A.\n",
    "\n",
    "Jonathan Jalbert<br/>\n",
    "Professeur adjoint au Département de mathématiques et de génie industriel<br/>\n",
    "Polytechnique Montréal<br/>\n",
    "\n",
    "\n",
    "# Chapitre 2 - Introduction à la régression linéaire\n",
    "\n",
    "Ce calepin Jupyter accompage le chapitre 2 des notes de cours.\n",
    "\n",
    "Chargeons d'abord les librairies nécessaires."
   ]
  },
  {
   "cell_type": "code",
   "execution_count": 1,
   "metadata": {},
   "outputs": [
    {
     "name": "stderr",
     "output_type": "stream",
     "text": [
      "┌ Info: Loading DataFrames support into Gadfly.jl\n",
      "└ @ Gadfly C:\\Users\\massi\\.julia\\packages\\Gadfly\\09PWZ\\src\\mapping.jl:228\n"
     ]
    }
   ],
   "source": [
    "using CSV, DataFrames             # Pour charger et organiser les données\n",
    "using Gadfly                      # Pour générer des graphiques\n",
    "using Distributions               # Pour utiliser les distributions statistiques\n",
    "using LinearAlgebra               # Pour utiliser les fonctions d'algèbre linéaire\n",
    "using Random"
   ]
  },
  {
   "cell_type": "code",
   "execution_count": 2,
   "metadata": {},
   "outputs": [
    {
     "data": {
      "text/plain": [
       "splitdataframe"
      ]
     },
     "execution_count": 2,
     "metadata": {},
     "output_type": "execute_result"
    }
   ],
   "source": [
    "include(\"functions.jl\")"
   ]
  },
  {
   "cell_type": "markdown",
   "metadata": {},
   "source": [
    "# Chargement des données"
   ]
  },
  {
   "cell_type": "code",
   "execution_count": null,
   "metadata": {},
   "outputs": [],
   "source": [
    "# Chargement du fichier de données \n",
    "data = CSV.read(\"FF_emissions.csv\");\n",
    "\n",
    "# Les colonnes sont renommées avec des noms plus courts\n",
    "rename!(data, :FF_emissions => :FF)\n",
    "rename!(data, :LUC_emissions => :LUC)\n",
    "rename!(data, :ocean_sink => :Ocean)\n",
    "rename!(data, :land_sink => :Land)\n",
    "rename!(data, :T_anomaly => :T)\n",
    "\n",
    "# Les oceans et les strates végétales absorbent le carbone\n",
    "data[!,:Ocean] = -data[!,:Ocean]\n",
    "data[!,:Land] = -data[!,:Land]\n",
    "\n",
    "# Affichage des 5 premières lignes du tableau de données\n",
    "first(data,5)"
   ]
  },
  {
   "cell_type": "code",
   "execution_count": null,
   "metadata": {},
   "outputs": [],
   "source": [
    "# On retire les données de la structure DataFrames pour faire les calculs sans utiliser les packages de la régression\n",
    "X₁ = convert(Array{Float64},data[!,:FF])\n",
    "X₂ = convert(Array{Float64},data[!,:LUC])\n",
    "X₃ = convert(Array{Float64},data[!,:Ocean])\n",
    "X₄ = convert(Array{Float64},data[!,:Land])\n",
    "Y = convert(Array{Float64},data[!,:T])\n",
    "n = length(Y);"
   ]
  },
  {
   "cell_type": "markdown",
   "metadata": {},
   "source": [
    "# Analyse exploratoire\n",
    "\n",
    "Étape permettant d'obtenir une vision globale du jeu de données. Elle peut également permettre de découvrir des dépendances entre les variables. L'analyse exploratoire peut s'affectuer à l'aide de graphiques et de statistiques simples."
   ]
  },
  {
   "cell_type": "code",
   "execution_count": null,
   "metadata": {},
   "outputs": [],
   "source": [
    "# Traçage de l'anomalie de température en fonction des années\n",
    "Gadfly.set_default_plot_size(14cm, 8cm)\n",
    "fig1 = plot(data, x=:Year, y=:T, Geom.line,\n",
    "    Coord.Cartesian(xmin=1959, xmax=2015), Guide.xticks(ticks=collect(1960:10:2015))) \n"
   ]
  },
  {
   "cell_type": "code",
   "execution_count": null,
   "metadata": {},
   "outputs": [],
   "source": [
    "# Traçage des composantes du cycle du carbone en fonction des années\n",
    "Gadfly.set_default_plot_size(14cm, 8cm)\n",
    "fig2 = plot(stack(data, [:FF, :LUC, :Ocean, :Land]), x=:Year, y=:value, color=:variable, Geom.line,\n",
    "    Coord.Cartesian(xmin=1959, xmax=2015), Guide.xticks(ticks=collect(1960:10:2015)) )\n"
   ]
  },
  {
   "cell_type": "code",
   "execution_count": null,
   "metadata": {},
   "outputs": [],
   "source": [
    "Gadfly.set_default_plot_size(21cm, 8cm)\n",
    "hstack(fig1, fig2)"
   ]
  },
  {
   "cell_type": "markdown",
   "metadata": {},
   "source": [
    "# Préliminaires\n",
    "\n",
    "Pour justifier l'intétrêt de la régression linéaire, tentons de faire passer une courbe par tous les points d'un échantillon d'entraînement."
   ]
  },
  {
   "cell_type": "markdown",
   "metadata": {},
   "source": [
    "### Anomalies de températures en fonction de la quantité de carbone émise par les combustibles fossiles\n",
    "\n",
    "Traçage du nuage de points."
   ]
  },
  {
   "cell_type": "code",
   "execution_count": null,
   "metadata": {},
   "outputs": [],
   "source": [
    "Gadfly.set_default_plot_size(12cm, 8cm)\n",
    "plot(data, x=:FF, y=:T, Geom.point, Coord.cartesian(xmin=2), Guide.xticks(ticks=collect(2:10)))"
   ]
  },
  {
   "cell_type": "markdown",
   "metadata": {},
   "source": [
    "### Partionnement du jeu de données\n",
    "\n",
    "Partionnement du jeu de données en un ensemble d'entraînement et de validation avec la fonction `splitdataframe`."
   ]
  },
  {
   "cell_type": "code",
   "execution_count": null,
   "metadata": {},
   "outputs": [],
   "source": [
    "train, valid = splitdataframe(data,.2)\n",
    "train"
   ]
  },
  {
   "cell_type": "markdown",
   "metadata": {},
   "source": [
    "### Estimation de la courbe passant par tous les points"
   ]
  },
  {
   "cell_type": "code",
   "execution_count": null,
   "metadata": {},
   "outputs": [],
   "source": [
    "y = train[:,:T]\n",
    "x = train[:,:FF]\n",
    "n = length(y)\n",
    "\n",
    "# Matrice de structure des n équations pour les n inconnus\n",
    "X = Array{Float64}(undef,n,n)\n",
    "X[:,1] .= 1 \n",
    "\n",
    "for i=1:n\n",
    "    for j=2:n\n",
    "        X[i,j] = x[i]^(j-1)\n",
    "    end\n",
    "end\n",
    "\n",
    "# Résolution du système linéaire\n",
    "β = X\\y\n",
    "\n",
    "\n",
    "# Création d'un vecteur pour afficher une courbe\n",
    "xx = collect(2:.01:10)\n",
    "\n",
    "X̃ = Array{Float64}(undef,length(xx),n)\n",
    "X̃[:,1] .= 1 \n",
    "\n",
    "for i=1:length(xx)\n",
    "    for j=2:n\n",
    "        X̃[i,j] = xx[i]^(j-1)\n",
    "    end\n",
    "end\n",
    "\n",
    "yy = X̃*β\n",
    "\n",
    "\n",
    "# Traçage du nuages de points et de la courbe\n",
    "sample = layer( x=x, y=y, Geom.point, Theme(default_color=\"deepskyblue\"))\n",
    "curve = layer(x=xx, y = yy, Geom.line, Theme(default_color=\"red\"))\n",
    "\n",
    "# Traçage du graphique\n",
    "Gadfly.set_default_plot_size(14cm, 8cm)\n",
    "plot(sample,curve ,\n",
    "    Guide.manual_color_key(\"Légende\", [\"Échantillon\", \"Spline\"], [\"deepskyblue\",\"red\"]),\n",
    "    Coord.Cartesian(xmin=2,xmax=10,ymin=-10,ymax=10), Guide.xlabel(\"Émissions FF\"), Guide.ylabel(\"T\"))\n",
    "\n",
    "#=\n",
    "On peut remarquer que ce modèle est très instable. De plus, la performance de ce modèle est nulle sur \n",
    "l'échantillon de validation. On est dans un cas de «sur-aprentissage».\n",
    "=#\n"
   ]
  },
  {
   "cell_type": "markdown",
   "metadata": {},
   "source": [
    "# 2.1 Modèle de régression linéaire simple\n",
    "\n",
    "Pour commencer, on utilise seulement les émissions par combustion de combustibles fossibles \n",
    "comme variable explicative."
   ]
  },
  {
   "cell_type": "markdown",
   "metadata": {},
   "source": [
    "### Estimation des paramètres du modèle de régression linéaire simple"
   ]
  },
  {
   "cell_type": "code",
   "execution_count": null,
   "metadata": {},
   "outputs": [],
   "source": [
    "# taille de l'échantillon\n",
    "n = length(Y)\n",
    "\n",
    "# Calcul des statistiques utiles\n",
    "x̄ = mean(X₁)\n",
    "ȳ = mean(Y)\n",
    "\n",
    "# Estimation des paramètres\n",
    "β̂₁ = sum( (X₁[i] - x̄)*(Y[i] - ȳ) for i=1:n) / sum( (X₁[i] - x̄)^2 for i=1:n )\n",
    "\n",
    "β̂₀ = ȳ - β̂₁*x̄\n",
    "\n",
    "println(\"L'ordonnée à l'origine estimée est β̂₀=$(β̂₀)\")\n",
    "println(\"La pente de la droite de régression estimée est β̂₁=$(β̂₁)\")\n"
   ]
  },
  {
   "cell_type": "markdown",
   "metadata": {},
   "source": [
    "### Affichage de la droite de régression"
   ]
  },
  {
   "cell_type": "code",
   "execution_count": null,
   "metadata": {},
   "outputs": [],
   "source": [
    "# couche du graphique pour les observations\n",
    "sample = layer( x=X₁, y=Y, Geom.point, Theme(default_color=\"deepskyblue\"))\n",
    "\n",
    "# couche du graphique pour la droite de régression\n",
    "xx = collect(range(minimum(X₁),stop=maximum(X₁),length=10))\n",
    "regression = layer(x=xx, y = β̂₀ .+ β̂₁*xx, Geom.line, Theme(default_color=\"red\"))\n",
    "\n",
    "# Traçage du graphique\n",
    "Gadfly.set_default_plot_size(14cm, 8cm)\n",
    "plot(sample,regression ,\n",
    "    Guide.manual_color_key(\"Légende\", [\"Échantillon\", \"Régression\"], [\"deepskyblue\",\"red\"]),\n",
    "    Coord.Cartesian(xmin=2,xmax=10), Guide.xlabel(\"Émissions FF\"), Guide.ylabel(\"T\"))\n"
   ]
  },
  {
   "cell_type": "markdown",
   "metadata": {},
   "source": [
    "# 2.2 Modèle de régression linéaire multiple\n",
    "\n",
    "Dans cette section, toutes les variables explicatives sont utilisées pour expliquer les anomalies de température."
   ]
  },
  {
   "cell_type": "markdown",
   "metadata": {},
   "source": [
    "### 2.2.1 Estimation des paramètres du modèle de régression multiple\n",
    "\n",
    "Estimation des paramètres à l'aide de la méthode des moindres carrés."
   ]
  },
  {
   "cell_type": "code",
   "execution_count": null,
   "metadata": {},
   "outputs": [],
   "source": [
    "# taille de l'échantillon\n",
    "n = length(Y)\n",
    "\n",
    "# Construction de la matrice de structure\n",
    "X = hcat(ones(n),X₁,X₂,X₃,X₄)\n",
    "\n",
    "# Estimation des paramètres du modèle de régression\n",
    "β̂ = (X'X)\\X'Y\n",
    "\n",
    "println(\"Les estimations des coefficient de régression sont β̂ = $(β̂)\")"
   ]
  },
  {
   "cell_type": "markdown",
   "metadata": {},
   "source": [
    "### 2.2.2 Estimation de la variance de l'erreur"
   ]
  },
  {
   "cell_type": "code",
   "execution_count": null,
   "metadata": {},
   "outputs": [],
   "source": [
    "# Nb de variables explicatives\n",
    "p = size(X,2)-1 # la colonne de 1 ne constitue pas une variable explicative\n",
    "\n",
    "# Calcul des résidus (erreurs observés)\n",
    "e = Y-X*β̂\n",
    "\n",
    "# Estimation de la variance de l'erreur\n",
    "σ̂² = 1/(n-p-1)*sum( e.^2 )\n",
    "\n",
    "println(\"σ̂² = $σ̂²\")"
   ]
  },
  {
   "cell_type": "markdown",
   "metadata": {},
   "source": [
    "### 2.2.3 Prévision de l'anomalie de température\n",
    "\n",
    "Supposons que l'on veut savoir qu'elle sera l'anomalie de température si on émet les quantités suivantes :\n",
    "\n",
    " - 10 Gt de C par FF\n",
    " - 1.5 Gt de C par LUC\n",
    " - -1 Gt de C par Ocean\n",
    " - -1 Gt de C par Land"
   ]
  },
  {
   "cell_type": "code",
   "execution_count": null,
   "metadata": {},
   "outputs": [],
   "source": [
    "# Définition du vecteur des variables explicatives pour lesquelles on veut estimer la variable d'intérêt\n",
    "x₀ = [1 10 1.5 -1 -1]\n",
    "\n",
    "# Estimation de l'anomalie de température\n",
    "Ŷ₀ = x₀*β̂\n",
    "\n",
    "println(\"L'anomalie de température estimée correspondante est de $(Ŷ₀)\")"
   ]
  },
  {
   "cell_type": "markdown",
   "metadata": {},
   "source": [
    "# 2.3 Validation des hypothèses de la régression linéaire\n",
    "\n",
    "Analyse visuelle des résidus"
   ]
  },
  {
   "cell_type": "code",
   "execution_count": null,
   "metadata": {},
   "outputs": [],
   "source": [
    "# Affichage des résidus\n",
    "\n",
    "# Calcul des estimations\n",
    "Ŷ = X*β̂\n",
    "\n",
    "# Calcul des résidus (erreurs observées)\n",
    "e = Y .- Ŷ\n",
    "\n",
    "# Stockage des variables dans un DataFrame pour un affichage plus facile\n",
    "df = DataFrame(Ŷ = Ŷ, e = e)\n",
    "\n",
    "Gadfly.set_default_plot_size(10cm, 8cm)\n",
    "plot(df, x = :Ŷ, y = :e, Geom.point, Coord.Cartesian(xmin=-.1,xmax=1,ymin=-.3,ymax=.3))\n"
   ]
  },
  {
   "cell_type": "markdown",
   "metadata": {},
   "source": [
    "# 2.6 Tests d'hypothèses et intervalles de confiance\n",
    "\n",
    "Avant tout, vérifions si l'hypothèse de normalité des résidus est raisonnable."
   ]
  },
  {
   "cell_type": "code",
   "execution_count": null,
   "metadata": {},
   "outputs": [],
   "source": [
    "function henryplot(y::Array{<:Real,1})\n",
    "   \n",
    "    n = length(y)\n",
    "    ysorted = sort(y)\n",
    "    \n",
    "    p = ( collect(1:n) .- .5 ) /n\n",
    "    \n",
    "    fd = fit(Normal,y)\n",
    "    \n",
    "    q = quantile.(fd,p)\n",
    "    \n",
    "    plot(x=ysorted, y=q, Geom.point, Geom.abline(color=\"red\"))\n",
    "    \n",
    "end"
   ]
  },
  {
   "cell_type": "code",
   "execution_count": null,
   "metadata": {},
   "outputs": [],
   "source": [
    "henryplot(e)"
   ]
  },
  {
   "cell_type": "code",
   "execution_count": null,
   "metadata": {},
   "outputs": [],
   "source": [
    "x = rand(Gamma(),100)\n",
    "henryplot(x)"
   ]
  },
  {
   "cell_type": "markdown",
   "metadata": {},
   "source": [
    "### 2.6.1 Test sur l’importance de la régression"
   ]
  },
  {
   "cell_type": "code",
   "execution_count": null,
   "metadata": {},
   "outputs": [],
   "source": [
    "ȳ = mean(Y)\n",
    "\n",
    "SST = sum( (Y .- ȳ).^2 )\n",
    "SSR = sum( (Ŷ .- ȳ).^2 )\n",
    "SSE = sum(e.^2)\n",
    "\n",
    "R² = SSR/SST\n",
    "\n",
    "println(\"Le coefficient de détermination de la régression est R² = $R²\")"
   ]
  },
  {
   "cell_type": "code",
   "execution_count": null,
   "metadata": {},
   "outputs": [],
   "source": [
    "# Calcul de la statistique observée du test\n",
    "F₀ = SSR/SSE * (n-p-1)/p\n",
    "\n",
    "xx = 0:.1:100\n",
    "pd = FDist(p, n-p-1) \n",
    "f = pdf.(pd,xx)\n",
    "\n",
    "density= layer(x=xx, y=f, Geom.line, Theme(default_color=\"deepskyblue\"))\n",
    "statObs = layer(x=[F₀], y=[0], Geom.point, Theme(default_color=\"red\") )\n",
    "\n",
    "Gadfly.set_default_plot_size(21cm, 8cm)\n",
    "plot(density, statObs,\n",
    "    Guide.manual_color_key(\"Légende\", [\"Densité sous H₀\", \"Stat obs\"], [\"deepskyblue\",\"red\"]),\n",
    "    Coord.Cartesian(xmin=0,xmax=85), Guide.xlabel(\"x\"), Guide.ylabel(\"f\"))"
   ]
  },
  {
   "cell_type": "code",
   "execution_count": null,
   "metadata": {},
   "outputs": [],
   "source": [
    "# Première façon de tester l'importance de la régression : comparaison avec le seuil critique\n",
    "\n",
    "α = 0.05\n",
    "point_critique = cdf(pd,1-α)\n",
    "if F₀ > point_critique\n",
    "    println(\"La régression est significative au seuil de $α car F₀ > point critique.\n",
    "        On a en effet que F₀ = $F₀ > $point_critique)\")\n",
    "else\n",
    "    println(\"La régression n'est pas significative au seuil de $α car F₀ < point critique.\n",
    "        On a en effet que F₀ = $F₀ < $point_critique)\")\n",
    "end"
   ]
  },
  {
   "cell_type": "code",
   "execution_count": null,
   "metadata": {},
   "outputs": [],
   "source": [
    "# Deuxième façon de tester l'importance de la régression : calcul de la valeur-p\n",
    "\n",
    "α = 0.05\n",
    "# calcul de la probabilité d'observer une statistique plus extrême que celle obtenue\n",
    "seuil_observe = ccdf(pd,F₀) # la fonction ccdf correspond à 1-cdf()\n",
    "if seuil_observe < α\n",
    "    println(\"La régression est significative au seuil de $α car le seuil observé du test est plus petit que α.\n",
    "        On a en effet que seuil observé = $seuil_observe < $α\")\n",
    "else\n",
    "    println(\"La régression n'est pas significative au seuil de $α car le seuil observé du test est plus grand que α.\n",
    "        On a en effet que seuil observé = $seuil_observe > $α\")\n",
    "end"
   ]
  },
  {
   "cell_type": "markdown",
   "metadata": {},
   "source": [
    "### 2.6.2 Intervalles de confiance sur les coefficients de régression"
   ]
  },
  {
   "cell_type": "code",
   "execution_count": null,
   "metadata": {},
   "outputs": [],
   "source": [
    "# calcul du quantile de la loi de Student\n",
    "tₐ = cdf(TDist(n-p-1),.975)\n",
    "\n",
    "# Calcul de l'inverse de la matrice de X'X\n",
    "C = inv(X'X)\n",
    "\n",
    "# Affichage des intervalles de confiance\n",
    "coeff_names = [\"β₀\", \"β₁\", \"β₂\", \"β₃\", \"β₄\"]\n",
    "for j=0:p\n",
    "    se = tₐ*sqrt(σ̂²*C[j+1,j+1])\n",
    "   println(\"L'intervalle de confiance de $(coeff_names[j+1]) est [$(β̂[j+1] - se) , $(β̂[j+1] + se)\")\n",
    "end"
   ]
  },
  {
   "cell_type": "markdown",
   "metadata": {},
   "source": [
    "### 2.6.3 Intervalle de confiance sur une prévision\n",
    "\n",
    "Reprenons la prévision de la section 2.2.3. Calculons maintenons un intervalle de confiance de niveau 95 % pour cette prévision.\n"
   ]
  },
  {
   "cell_type": "code",
   "execution_count": null,
   "metadata": {},
   "outputs": [],
   "source": [
    "# Vecteur des variables explicatives\n",
    "x₀ = [1 10 1.5 -1 -1]\n",
    "\n",
    "# Prévision\n",
    "Ŷ₀ = x₀*β̂\n",
    "\n",
    "# Calcul de la marge d'erreur\n",
    "se = cdf(TDist(n-p-1),.975)*sqrt( 1 .+ σ̂² * x₀/(X'X)*x₀' )\n",
    "\n",
    "\n",
    "println(\"L'intervalle de confiance de Ŷ₀ est [$(Ŷ₀[1] - se[1]) , $(Ŷ₀[1] + se[1])]\")"
   ]
  },
  {
   "cell_type": "markdown",
   "metadata": {},
   "source": [
    "# 2.7 Comparaison des modèles"
   ]
  },
  {
   "cell_type": "markdown",
   "metadata": {},
   "source": [
    "### 2.7.1 Coefficient de détermination ajusté pour le modèle complet"
   ]
  },
  {
   "cell_type": "code",
   "execution_count": null,
   "metadata": {},
   "outputs": [],
   "source": [
    "p = size(X,2)-1 # nombre de variables explicatives\n",
    "\n",
    "R² =  1 - SSE/SST * (n-1)/(n-p)\n",
    "\n",
    "println(\"Le coefficient de détermination ajusté est de $(R²)\")\n"
   ]
  },
  {
   "cell_type": "markdown",
   "metadata": {},
   "source": [
    "### 2.7.2 Coefficient de détermination des prévisions"
   ]
  },
  {
   "cell_type": "code",
   "execution_count": null,
   "metadata": {},
   "outputs": [],
   "source": [
    "# Calcul de la matrice H pour la validation croisée\n",
    "H = X/(X'*X)*X'\n",
    "\n",
    "# Calcul des erreurs de validation croisée\n",
    "ẽ = e./(1 .- diag(H))\n",
    "\n",
    "# Calcul du coefficient de détermination de prévision\n",
    "R̃² = 1-sum(ẽ.^2)/ SST\n",
    "\n",
    "println(\"Le coefficient de détermination de prévision est de $(R̃²)\")"
   ]
  },
  {
   "cell_type": "markdown",
   "metadata": {},
   "source": [
    "### Calcul des mesures de qualité pour tous les modèles possibles"
   ]
  },
  {
   "cell_type": "code",
   "execution_count": null,
   "metadata": {},
   "outputs": [],
   "source": [
    "\n",
    "# Création d'un dataframe pour conserver les R² de tous les modèles\n",
    "df = DataFrame(FF = Int64[], LUC = Int64[], Ocean = Int64[], Land=Int64[], R2aj = Float64[], R2prev = Float64[])\n",
    "\n",
    "for i=0:1\n",
    "    for j=0:1\n",
    "        for k=0:1\n",
    "            for l=0:1\n",
    "            \n",
    "                # Construction de la matrice des variables explicatives\n",
    "                X = ones(n,1)\n",
    "                if i==1\n",
    "                    X = hcat(X,X₁)\n",
    "                end\n",
    "                if j==1\n",
    "                   X = hcat(X,X₂)\n",
    "                end\n",
    "                if k==1\n",
    "                    X = hcat(X,X₃)\n",
    "                end\n",
    "                if l==1\n",
    "                    X = hcat(X,X₄)\n",
    "                end\n",
    "\n",
    "                # estimation des paramètres\n",
    "                β̂ = (X'*X)\\X'*Y\n",
    "                # Calculs des résidus\n",
    "                e = Y .- X*β̂\n",
    "                # Calcul de la matrice H pour la validation croisée\n",
    "                H = X/(X'*X)*X'\n",
    "                # Calcul des erreurs de validation croisée\n",
    "                ẽ = e./(1 .- diag(H))\n",
    "                # Calcul du coefficient de détermination de prévision\n",
    "                R̃² = 1-sum(ẽ.^2)/ SST\n",
    "\n",
    "                # Calcul du coefficient de détermination ajusté\n",
    "                p = size(X,2)-1\n",
    "                SSE = sum(e.^2)\n",
    "                R² =  1 - SSE/SST * (n-1)/(n-p)\n",
    "\n",
    "                # Stocker les résultats dans le dataframe\n",
    "                push!(df,[i j k l R² R̃²])\n",
    "                \n",
    "            end\n",
    "        end\n",
    "    end\n",
    "end\n",
    "\n",
    "sort(df,:R2aj,rev=true)\n"
   ]
  },
  {
   "cell_type": "markdown",
   "metadata": {},
   "source": [
    "# 2.8  Identification des données suspectes"
   ]
  },
  {
   "cell_type": "code",
   "execution_count": null,
   "metadata": {},
   "outputs": [],
   "source": [
    "# taille de l'échantillon\n",
    "n = length(Y)\n",
    "\n",
    "# Construction de la matrice de structure (on conserve le meilleur modèle obtenu à la section précédente)\n",
    "X = hcat(ones(n),X₁,X₂,X₃,X₄)\n",
    "\n",
    "# Estimation des paramètres du modèle de régression\n",
    "β̂ = (X'X)\\X'Y\n",
    "\n",
    "# Calcul des résidus\n",
    "e = Y .- X*β̂\n",
    "\n",
    "# Estimation de l'erreur\n",
    "σ̂² = 1/(n-p-1)*sum( e.^2 )\n",
    "\n",
    "# Calcul de la matrice H\n",
    "H = X/(X'X)*X'\n",
    "\n",
    "s = [e[i]/sqrt(σ̂²*(1-H[i,i])) for i=1:n]\n",
    "\n",
    "plot(x=1:n, y=s, Geom.point,\n",
    "    yintercept=[-3.0, 3.0], Geom.hline(color=[\"red\",\"red\"], style=[:dash,:dash]))\n",
    "\n",
    "# Toutes les valeurs sont entre -3 et 3. Il n'y a donc aucune valeur suspecte."
   ]
  },
  {
   "cell_type": "markdown",
   "metadata": {},
   "source": [
    "# 2.9 Détection de la multicolinéarité\n",
    "\n",
    "### 2.9.2 Détection de la multicolinéarité avec les valeurs propres"
   ]
  },
  {
   "cell_type": "code",
   "execution_count": null,
   "metadata": {},
   "outputs": [],
   "source": [
    "function check_multicol(X::Array{T,2} where T<:Real)\n",
    "   \n",
    "    # Standardization of the explanatory variables, except the column of ones\n",
    "    m = mean(X, dims=1)\n",
    "    s = std(X, dims=1)\n",
    "    \n",
    "    m[1] = 0\n",
    "    s[1] = 1\n",
    "    \n",
    "    X̃ = (X .- m) ./s\n",
    "    \n",
    "    \n",
    "    # compute the singular values\n",
    "    λ = svdvals(X̃)\n",
    "    # Calculer les valeurs singulières de X est plus efficace que calculer les valeurs propres de X'X\n",
    "    \n",
    "    # Coompute the multicollinearity index\n",
    "    ϕ = maximum(λ) / minimum(λ)\n",
    "    \n",
    "    if ϕ > 30\n",
    "        multicol = true\n",
    "    else\n",
    "        multicol = false\n",
    "    end\n",
    "    \n",
    "    return multicol\n",
    "end"
   ]
  },
  {
   "cell_type": "code",
   "execution_count": null,
   "metadata": {},
   "outputs": [],
   "source": [
    "multicol = check_multicol(X)\n",
    "\n",
    "if multicol\n",
    "    println(\"Il y a présence de multicolinéarité.\")\n",
    "else\n",
    "    println(\"Il n'y a pas de multicolinéarité.\")\n",
    "end"
   ]
  },
  {
   "cell_type": "markdown",
   "metadata": {},
   "source": [
    "# Les résultats peuvent être reproduits avec la librairie GLM"
   ]
  },
  {
   "cell_type": "code",
   "execution_count": null,
   "metadata": {},
   "outputs": [],
   "source": [
    "using GLM"
   ]
  },
  {
   "cell_type": "code",
   "execution_count": null,
   "metadata": {},
   "outputs": [],
   "source": [
    "# Construction du modèle linéaire\n",
    "M = lm(@formula(T ~ FF + LUC + Ocean + Land), data)"
   ]
  },
  {
   "cell_type": "code",
   "execution_count": null,
   "metadata": {},
   "outputs": [],
   "source": [
    "# Extraction des résidus\n",
    "e = residuals(M)\n",
    "\n",
    "# Obtention des estimations aux points observés\n",
    "Ŷ = predict(M,X)\n",
    "\n",
    "Gadfly.set_default_plot_size(10cm, 8cm)\n",
    "plot(x=Ŷ, y=e, Geom.point, Coord.Cartesian(xmin=-.1,xmax=1,ymin=-.3,ymax=.3))\n"
   ]
  },
  {
   "cell_type": "code",
   "execution_count": null,
   "metadata": {},
   "outputs": [],
   "source": [
    "# Prévision \n",
    "x₀ = [1 10 1.5 -1.0 -1.0]\n",
    "Ŷ₀ = predict(M,x₀)"
   ]
  },
  {
   "cell_type": "code",
   "execution_count": null,
   "metadata": {},
   "outputs": [],
   "source": []
  },
  {
   "cell_type": "code",
   "execution_count": null,
   "metadata": {},
   "outputs": [],
   "source": []
  }
 ],
 "metadata": {
  "@webio": {
   "lastCommId": null,
   "lastKernelId": null
  },
  "kernelspec": {
   "display_name": "Julia 1.3.1",
   "language": "julia",
   "name": "julia-1.3"
  },
  "language_info": {
   "file_extension": ".jl",
   "mimetype": "application/julia",
   "name": "julia",
   "version": "1.3.1"
  }
 },
 "nbformat": 4,
 "nbformat_minor": 2
}
