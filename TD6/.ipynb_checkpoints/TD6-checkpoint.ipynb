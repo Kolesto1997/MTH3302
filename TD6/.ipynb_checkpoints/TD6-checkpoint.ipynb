{
 "cells": [
  {
   "cell_type": "markdown",
   "metadata": {},
   "source": [
    "# MTH3302 : Méthodes probabilistes et statistiques pour l'I.A.\n",
    "\n",
    "Jonathan Jalbert<br/>\n",
    "Professeur adjoint au Département de mathématiques et de génie industriel<br/>\n",
    "Polytechnique Montréal<br/>\n",
    "\n",
    "\n",
    "## TD6 : Régression bayésienne\n",
    "\n",
    "\n",
    "La première partie de ce TD est consacrée à la régression Ridge tandis que la deuxième partie du TD est consacrée à l'exploration stochastique des modèles.\n"
   ]
  },
  {
   "cell_type": "code",
   "execution_count": 1,
   "metadata": {},
   "outputs": [
    {
     "name": "stderr",
     "output_type": "stream",
     "text": [
      "┌ Info: Loading DataFrames support into Gadfly.jl\n",
      "└ @ Gadfly C:\\Users\\massi\\.julia\\packages\\Gadfly\\09PWZ\\src\\mapping.jl:228\n"
     ]
    }
   ],
   "source": [
    "using CSV, DataFrames, LinearAlgebra, Statistics, Distributions, Random\n",
    "using Gadfly"
   ]
  },
  {
   "cell_type": "code",
   "execution_count": 2,
   "metadata": {},
   "outputs": [
    {
     "data": {
      "text/plain": [
       "softmax (generic function with 1 method)"
      ]
     },
     "execution_count": 2,
     "metadata": {},
     "output_type": "execute_result"
    }
   ],
   "source": [
    "\"\"\"\n",
    "    standardize!(X::AbstractMatrix)\n",
    "\n",
    "Standardisation du vecteur colonne X ou de chacune des colonnes de la matrice X.\n",
    "\n",
    "### Arguments\n",
    "- `X::Matrix{Real}` : Vecteur ou matrice à standardiser.\n",
    "\n",
    "### Détails\n",
    "\n",
    "La fonction centre la matrice et modifie l'échelle de l'argument X.\n",
    "\n",
    "### Exemples\n",
    "\n",
    "\\```\n",
    " julia> standardize!(X)\n",
    "\\```\n",
    "\n",
    "\"\"\"\n",
    "function standardize!(x::Vector{Float64})\n",
    "    \n",
    "    x̄ = mean(x)\n",
    "    s = std(x)\n",
    "    \n",
    "    for i=1:length(x)\n",
    "        x[i] = (x[i] - x̄)/s\n",
    "    end\n",
    "    \n",
    "    return x\n",
    "    \n",
    "end\n",
    "\n",
    "function standardize!(X::Matrix{Float64})\n",
    "    \n",
    "    for j=1:size(X,2)\n",
    "       X[:,j] = standardize!(X[:,j])\n",
    "    end\n",
    "    \n",
    "    return X\n",
    "    \n",
    "end\n",
    "\n",
    "\"\"\"\n",
    "    splitdataframe(df::DataFrame, p::Real)\n",
    "\n",
    "Partitionne en un ensemble d'entraînement et un ensemble de validation un DataFrame.\n",
    "\n",
    "### Arguments\n",
    "- `df::DataFrame` : Un DataFrame\n",
    "- `p::Real` : La proportion (entre 0 et 1) de données dans l'ensemble d'entraînement.\n",
    "\n",
    "### Détails\n",
    "\n",
    "La fonction renvoie deux DataFrames, un pour l'ensemble d'entraînement et l'autre pour l'ensemble de validation.\n",
    "\n",
    "### Exemple\n",
    "\n",
    "\\```\n",
    " julia> splitdataframe(df, .7)\n",
    "\\```\n",
    "\n",
    "\"\"\"\n",
    "function splitdataframe(df::DataFrame, p::Real)\n",
    "   @assert 0 <= p <= 1 \n",
    "    \n",
    "    n = size(df,1)\n",
    "    \n",
    "    ind = shuffle(1:n)\n",
    "    \n",
    "    threshold = Int64(round(n*p))\n",
    "    \n",
    "    indTrain = sort(ind[1:threshold])\n",
    "    \n",
    "    indTest = setdiff(1:n,indTrain)\n",
    "    \n",
    "    dfTrain = data[indTrain,:]\n",
    "    dfTest = data[indTest,:]\n",
    "    \n",
    "    return dfTrain, dfTest\n",
    "    \n",
    "end\n",
    "\n",
    "function softmax(x::AbstractVector{<:Real})\n",
    "    \n",
    "    z = x .- maximum(x)\n",
    "    \n",
    "    e = exp.(z)\n",
    "    \n",
    "    s = e ./ sum(e)\n",
    "    \n",
    "end"
   ]
  },
  {
   "cell_type": "markdown",
   "metadata": {},
   "source": [
    "## Exercice 1 : Régression Ridge\n",
    "\n",
    "La régression Ridge est un cas particulier de la régression linéaire bayésienne lorsque la loi *a priori* partiellement informative suivante est utilisée :\n",
    "$$ f_{(\\boldsymbol{\\beta},\\sigma^2)}(\\boldsymbol{\\beta},\\sigma^2) \\propto \\mathcal{N}\\left(\\boldsymbol{\\beta} \\, \\left| \\, \\boldsymbol{0}_p , \\frac{\\sigma^2}{\\lambda}I_p \\right. \\right) \\times \\frac{1}{\\sigma^2}. $$\n",
    "Pour être conséquent avec l'approche bayésienne, il faudrait fixer l'hyperparamètre $\\lambda$ avant même d'avoir vu les données. De façon pragmatique, la valeur de $\\lambda$ est souvent choisie par validation comme nous le ferons dans cet exercice.\n",
    "\n",
    "Le jeu de données étudiées provient de l'étude de Tibshirani et al. (2004) illustrant les méthodes de régression modernes telle que la régression Ridge. Nous étudierons la glycémie sanguine (glu) en fonction de 9 variables explicatives : l'âge du patient (age), le sexe du patient (sex), l'indice de masse corporel du patient (bmi), de la tension artérielle moyenne (map) ainsi que de 5 autres indicateur sanguins (tc, ldl, hdl, tch et ltg).\n",
    "\n",
    "\n",
    "Tibshirani, R. J., Johnstone, I., Hastie, T., & Efron, B. (2004). Least angle regression. The Annals of Statistics, 32(2), 407–499. DOI:10.1214/009053604000000067\n"
   ]
  },
  {
   "cell_type": "code",
   "execution_count": null,
   "metadata": {},
   "outputs": [],
   "source": [
    "# Chargement des données\n",
    "data = CSV.read(\"diabetes.csv\", copycols=true)\n",
    "select!(data,Not(:prog))\n",
    "first(data,5)"
   ]
  },
  {
   "cell_type": "code",
   "execution_count": null,
   "metadata": {},
   "outputs": [],
   "source": [
    "# Prétraitement des données\n",
    "# Les données sont standardisées\n",
    "\n",
    "X = convert(Matrix{Float64},data[:,Not(:glu)])\n",
    "standardize!(X)\n",
    "\n",
    "y = convert(Vector{Float64}, data[:,:glu])\n",
    "standardize!(y);\n"
   ]
  },
  {
   "cell_type": "markdown",
   "metadata": {},
   "source": [
    "### (a) Estimez les coefficients de régression Ridge en utilisant $\\lambda = 10$."
   ]
  },
  {
   "cell_type": "code",
   "execution_count": null,
   "metadata": {},
   "outputs": [],
   "source": []
  },
  {
   "cell_type": "markdown",
   "metadata": {},
   "source": [
    "### (b) Pour $0 \\leq \\lambda \\leq 200$, estimez les coefficients de régression puis affichez-les en fonction de $\\lambda$.\n",
    "\n",
    "Ce graphique s'appelle la trace des coefficients de régression. Lorsqu'il y a multicolinéarité, les estimations des coefficients de régression varient beaucoup en fonction de $\\lambda$.\n",
    "\n",
    "Je vous propose de remplir la matrice $\\hat\\beta$ constituée de $p$ colonnes. Chaque ligne correspondra aux estimations des coefficients de régression pour une valeur de $\\lambda$ donnée. Cette matrice sera par la suite transformée en DataFrame pour un affichage simplifié."
   ]
  },
  {
   "cell_type": "code",
   "execution_count": null,
   "metadata": {},
   "outputs": [],
   "source": [
    "\n",
    "λ = 0:1:100\n",
    "β̂ = zeros(length(λ),size(X,2))\n",
    "\n",
    "for i in 1:length(λ)\n",
    "   \n",
    "    # À COMPLÉTER\n",
    "    \n",
    "end\n"
   ]
  },
  {
   "cell_type": "code",
   "execution_count": null,
   "metadata": {},
   "outputs": [],
   "source": [
    "# Création d'un dataframe pour un affichage rapide\n",
    "\n",
    "varNames = names(data[1,Not(:glu)])\n",
    "\n",
    "df = convert(DataFrame, β̂)\n",
    "for i=1:length(varNames)\n",
    "    rename!(df, Symbol(\"x$i\") => varNames[i])\n",
    "end\n",
    "\n",
    "df[!,:λ] = λ\n",
    "\n",
    "df = stack(df, Not(:λ))\n",
    "rename!(df, :value => :estimation)\n",
    "\n",
    "plot(df, x=:λ, y=:estimation, color=:variable, Geom.line)"
   ]
  },
  {
   "cell_type": "markdown",
   "metadata": {},
   "source": [
    "### (c) Calculez le R² de prévision en utilisant $\\lambda=10$.\n",
    "\n",
    "On rappelle que le R² de prévision s'exprime de la façon suivante :\n",
    "$$ R^2_{Prev} = 1 - \\frac{\\sum_{i=1}^n \\tilde{e}_i^2}{\\sum_{i=1}^n (y_i-\\bar{y})^2}. $$\n",
    "\n",
    "Pour ce faire,\n",
    "1. Calculez la variabilité totale SST.\n",
    "2. Estimez les paramètres de la régression Ridge.\n",
    "3. Obtenez les résidus de la régression Ridge.\n",
    "4. Calculez les résidus de validation croisée.\n",
    "5. Calculez le R² de prévision.\n"
   ]
  },
  {
   "cell_type": "code",
   "execution_count": null,
   "metadata": {},
   "outputs": [],
   "source": [
    "\n"
   ]
  },
  {
   "cell_type": "markdown",
   "metadata": {},
   "source": [
    "### (d) Calculez le R² de prévision  pour $0 \\leq \\lambda \\leq 200$.\n",
    "\n",
    "Affichez ensuite le R² de prévision en fonction de λ."
   ]
  },
  {
   "cell_type": "code",
   "execution_count": null,
   "metadata": {},
   "outputs": [],
   "source": [
    "\n"
   ]
  },
  {
   "cell_type": "code",
   "execution_count": null,
   "metadata": {},
   "outputs": [],
   "source": []
  },
  {
   "cell_type": "markdown",
   "metadata": {},
   "source": [
    "### (e) Identifiez la valeur de $\\lambda$ qui maximise le R² de prévision"
   ]
  },
  {
   "cell_type": "code",
   "execution_count": null,
   "metadata": {},
   "outputs": [],
   "source": []
  },
  {
   "cell_type": "markdown",
   "metadata": {},
   "source": [
    "### (f) Tracez la loi *a posteriori* marginale du coefficient de régression correspond à la variable sexe.\n",
    "\n",
    "Est-ce que cette variable possède un pouvoir prédictif significatif ? \n",
    "\n",
    "Utiliser la commande `LocationScale(μ, sqrt(Σ), TDist(ν))` pour créer un objet de type *loi de Student multidimensionnelle à ν degrés de liberté, de paramètre de localisation μ et de paramètre d'échelle Σ*."
   ]
  },
  {
   "cell_type": "code",
   "execution_count": null,
   "metadata": {},
   "outputs": [],
   "source": [
    "\n"
   ]
  },
  {
   "cell_type": "markdown",
   "metadata": {},
   "source": [
    "## Exercice 2 : Exploration stochastique de l'espace des modèles\n",
    "\n",
    "Dans cet exercice, on reprend le jeux de données *bodyfat.csv* comportant le pourcentage de gras de 20 patientes en fonction des variables explicatives suivantes :\n",
    "\n",
    "$x_1$ : l'épaisseur des plis de la peau des triceps (en mm) ;<br/>\n",
    "$x_2$ : le tour de cuisse (en mm) ;<br/>\n",
    "$x_3$ : la circonférence du bras en (mm).<br/>\n",
    "\n",
    "Nous allons implémenter l'échantillonnage de Gibbs pour explorer de façon stochastique l'espace des modèele. Puisqu'il n'y a que 3 variables explicatives dans ce cas-ci, il est possible de déterminer quel est le *vrai* meilleur modèle par énumération complète de tous les modèles.\n"
   ]
  },
  {
   "cell_type": "code",
   "execution_count": null,
   "metadata": {},
   "outputs": [],
   "source": [
    "# Chargement des données\n",
    "\n",
    "data = CSV.read(\"bodyfat.csv\")\n",
    "first(data, 5)"
   ]
  },
  {
   "cell_type": "code",
   "execution_count": null,
   "metadata": {},
   "outputs": [],
   "source": [
    "# Prétraitement des données\n",
    "\n",
    "y = data[:,:Bodyfat]\n",
    "standardize!(y)\n",
    "X = convert(Matrix{Float64}, data[:,1:3])\n",
    "standardize!(X)\n",
    "\n",
    "n, p = size(X)"
   ]
  },
  {
   "cell_type": "code",
   "execution_count": null,
   "metadata": {},
   "outputs": [],
   "source": [
    "# Énumération de tous les modèles possibles\n",
    "\n",
    "itr = reverse.(Iterators.product(fill(0:1,p)...))[:]\n",
    "\n",
    "M = BitArray[]\n",
    "for i in eachindex(itr)\n",
    "   push!(M, [itr[i]...] .== 1)\n",
    "end\n",
    "M"
   ]
  },
  {
   "cell_type": "markdown",
   "metadata": {},
   "source": [
    "### (a) Écrivez une fonction permettant de calculer le BIC d'un modèle.\n",
    "\n",
    "La fonction devrait prendre comme argument un vecteur de booléens indicant quelles variables sont incluses dans le modèle. La fonction devrait prendre en argument par exemple le vecteur [true true true]."
   ]
  },
  {
   "cell_type": "code",
   "execution_count": null,
   "metadata": {},
   "outputs": [],
   "source": [
    "function getbic(γ::BitArray)\n",
    "    \n",
    "    # À COMPLÉTER\n",
    "    \n",
    "end"
   ]
  },
  {
   "cell_type": "markdown",
   "metadata": {},
   "source": [
    "### (b) Calculer le BIC pour chacun des modèles possibles\n",
    "\n",
    "Quel est le meilleur modèle ?"
   ]
  },
  {
   "cell_type": "code",
   "execution_count": null,
   "metadata": {},
   "outputs": [],
   "source": []
  },
  {
   "cell_type": "code",
   "execution_count": null,
   "metadata": {},
   "outputs": [],
   "source": []
  },
  {
   "cell_type": "markdown",
   "metadata": {},
   "source": [
    "### (c) Exécuter la cellule suivante pour parcourir l'espace des modèles avec l'échantillonnage de Gibbs"
   ]
  },
  {
   "cell_type": "code",
   "execution_count": null,
   "metadata": {},
   "outputs": [],
   "source": [
    "m = 10000\n",
    "\n",
    "γ = trues(3,m)\n",
    "\n",
    "for i=2:m\n",
    "   γ[:,i] = γ[:,i-1]\n",
    "    for j=1:p\n",
    "        \n",
    "        η₀ = γ[:,i]\n",
    "        η₁ = γ[:,i]\n",
    "        η₀[j] = false\n",
    "        η₁[j] = true\n",
    "        \n",
    "#         θ = exp(getbic(η₁)) / ( exp(getbic(η₀)) + exp(getbic(η₁)))\n",
    "        s = softmax(getbic.([η₀, η₁])) # évite l'instabilité numérique\n",
    "        θ = s[2]\n",
    "        \n",
    "        γ[j,i] = rand(Bernoulli(θ))\n",
    "        \n",
    "    end\n",
    "end"
   ]
  },
  {
   "cell_type": "markdown",
   "metadata": {},
   "source": [
    "### (d) Exécuter les cellules suivantes pour déterminer le modèle choisi pour chacune des itérations"
   ]
  },
  {
   "cell_type": "code",
   "execution_count": null,
   "metadata": {},
   "outputs": [],
   "source": [
    "function modelid(M::Vector{BitArray},γ::BitArray)\n",
    "    \n",
    "    @assert length(γ)==length(M[1])\n",
    "    \n",
    "    ind = 1\n",
    "    \n",
    "    while M[ind] != γ\n",
    "        ind +=1\n",
    "    end\n",
    "    \n",
    "    return ind\n",
    "        \n",
    "end"
   ]
  },
  {
   "cell_type": "code",
   "execution_count": null,
   "metadata": {},
   "outputs": [],
   "source": [
    "id = [modelid(M,γ[:,i]) for i=1:size(γ,2)]\n",
    "\n",
    "df = DataFrame(Itération = 1:m, Modèle = id)\n",
    "\n",
    "nb = sort(by(df, :Modèle, nrow), :x1, rev = true)\n",
    "\n",
    "rename!(nb, :x1 => :Itérations)"
   ]
  },
  {
   "cell_type": "markdown",
   "metadata": {},
   "source": [
    "### (e) Selon les résultats en (d), quel est le meilleur modèle ? Est-ce cohérent avec le BIC calculé en (a) ?"
   ]
  },
  {
   "cell_type": "code",
   "execution_count": null,
   "metadata": {},
   "outputs": [],
   "source": []
  },
  {
   "cell_type": "code",
   "execution_count": null,
   "metadata": {},
   "outputs": [],
   "source": []
  }
 ],
 "metadata": {
  "@webio": {
   "lastCommId": null,
   "lastKernelId": null
  },
  "kernelspec": {
   "display_name": "Julia 1.3.1",
   "language": "julia",
   "name": "julia-1.3"
  },
  "language_info": {
   "file_extension": ".jl",
   "mimetype": "application/julia",
   "name": "julia",
   "version": "1.3.1"
  }
 },
 "nbformat": 4,
 "nbformat_minor": 2
}
