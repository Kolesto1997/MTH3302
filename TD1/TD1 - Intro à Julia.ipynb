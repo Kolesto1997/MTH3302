{
 "cells": [
  {
   "cell_type": "markdown",
   "metadata": {},
   "source": [
    "# MTH3302 : Méthodes probabilistes et statistiques pour l'I.A.\n",
    "\n",
    "Jonathan Jalbert<br/>\n",
    "Professeur adjoint au Département de mathématiques et de génie industriel<br/>\n",
    "Polytechnique Montréal<br/>\n",
    "\n",
    "\n",
    "# TD1 - Introduction à Julia\n",
    "\n",
    "Ce TD constitue une introduction au langage Julia et au calepin Jupyter. L'Exercice 1 a pour but d'introduire les commandes de base de Julia et de la librairie *Distributions* tandis que l'Exercice 2 a pour but d'introduire les DataFrames et la puissante librairie *Gadfly*, similaire à *ggplot2* en *R*, pour la production de graphiques."
   ]
  },
  {
   "cell_type": "markdown",
   "metadata": {},
   "source": [
    "# Exercice 1\n",
    "\n",
    "Dans cet exercice, nous nous intéressons au problèmes du nombre d'achats requis pour compléter une collection de $n$ items distincts où à chaque achat, la probabilité d'obtenir un item particulier est de $1/n$. En classe, nous avons considéré ce problème pour les 8 figurines de la Reine des neiges contenues dans les oeufs Kinder.\n",
    "\n",
    "Voici les différentes étapes qui nous permettrons d'étudier le problème :\n",
    "\n",
    "1. Simulation du nombre d'essais requis pour obtenir la $i^e$ nouvel item de la collection.\n",
    "2. Simulation du nombre d'essais requis pour obtenir la collection complète.\n",
    "3. Affichage du nombre d'essais requis pour 10 000 essais afin d'obtenir la collection complète.\n",
    "4. Estimation de la moyenne du nombre d'essais requis pour obtenir la collection complète.\n",
    "5. Estimation de la probabilité que 100 essais soit suffisants pour obtenir la collection complète.\n",
    "\n",
    "Avant tout, chargeons les librairies requises."
   ]
  },
  {
   "cell_type": "code",
   "execution_count": 1,
   "metadata": {},
   "outputs": [],
   "source": [
    "using Gadfly, Statistics, Distributions"
   ]
  },
  {
   "cell_type": "markdown",
   "metadata": {},
   "source": [
    "## 1. Simulation du nombre d'essais requis pour obtenir le $i^e$ nouvel item\n",
    "\n",
    "Une fois le code permettant de simuler le nombre d'essais requis pour obtenir la $i^e$ nouvelle carte, transformez-le en fonction nommée *ntrial* qui prend en argument $i$ et la taille de collection $n$."
   ]
  },
  {
   "cell_type": "code",
   "execution_count": 2,
   "metadata": {},
   "outputs": [
    {
     "data": {
      "text/plain": [
       "7"
      ]
     },
     "execution_count": 2,
     "metadata": {},
     "output_type": "execute_result"
    }
   ],
   "source": [
    "n = 8 # Nombre d'items distincs de la collections\n",
    "i = 7"
   ]
  },
  {
   "cell_type": "code",
   "execution_count": 3,
   "metadata": {},
   "outputs": [
    {
     "data": {
      "text/plain": [
       "ntrial (generic function with 1 method)"
      ]
     },
     "execution_count": 3,
     "metadata": {},
     "output_type": "execute_result"
    }
   ],
   "source": [
    "function ntrial(i::Int,n::Int)\n",
    "   @assert 0<i<=n # Vérification de la validité de i (facultatif)\n",
    "    \n",
    "    \n",
    "end"
   ]
  },
  {
   "cell_type": "markdown",
   "metadata": {},
   "source": [
    "## 2. Simulation du nombre d'achats requis pour obtenir la collection complète.\n",
    "\n",
    "Vous devez ici simuler un suite d'essais nécessaires pour obtenir la collection complète. Une fois votre code complété, transformez-le en fonction nommé *ntotal* qui prend en argument la taille de la collection."
   ]
  },
  {
   "cell_type": "code",
   "execution_count": null,
   "metadata": {},
   "outputs": [],
   "source": []
  },
  {
   "cell_type": "code",
   "execution_count": 4,
   "metadata": {},
   "outputs": [
    {
     "data": {
      "text/plain": [
       "ntotal (generic function with 1 method)"
      ]
     },
     "execution_count": 4,
     "metadata": {},
     "output_type": "execute_result"
    }
   ],
   "source": [
    "function ntotal(n::Int)\n",
    "   @assert n>0\n",
    "\n",
    "end"
   ]
  },
  {
   "cell_type": "markdown",
   "metadata": {},
   "source": [
    "## 3. Affichage du nombre d'essais requis pour 10 000 cas.\n",
    "\n",
    "Il faut avant tout simuler le nombre d'essais requis pour compléter la collection 10 000 fois. Par la suite, afficher le nombre d'essais requis avec un histogramme à 100 classes avec l'argument *Geom.histogram(bincount=100)* de la fonction *plot* de la librairie *Gadfly*."
   ]
  },
  {
   "cell_type": "code",
   "execution_count": 5,
   "metadata": {},
   "outputs": [],
   "source": [
    "# Génération des 10 000 cas\n"
   ]
  },
  {
   "cell_type": "code",
   "execution_count": null,
   "metadata": {},
   "outputs": [],
   "source": []
  },
  {
   "cell_type": "markdown",
   "metadata": {},
   "source": [
    "## 4. Estimation de la moyenne du nombre d'essais requis pour obtenir la collection complète.\n",
    "\n",
    "À l'aide des 10 000 réalisations, calculez la moyenne empirique de nombre d'essais requis pour obtenir la collection complète de $n=31$ items. Comment elle se compare à la moyenne calculée en classe de 124 essais requis ?"
   ]
  },
  {
   "cell_type": "code",
   "execution_count": null,
   "metadata": {},
   "outputs": [],
   "source": []
  },
  {
   "cell_type": "markdown",
   "metadata": {},
   "source": [
    "## 5. Estimation de la probabilité que 100 essais soit suffisants pour obtenir la collection complète.\n",
    "\n",
    "Pour ce faire, calculez la proportion empirique des réalisations parmi les 10 000 simulées où 100 essais ou moins ont été suffisants pour compléter la collection."
   ]
  },
  {
   "cell_type": "code",
   "execution_count": null,
   "metadata": {},
   "outputs": [],
   "source": []
  },
  {
   "cell_type": "markdown",
   "metadata": {},
   "source": [
    "# Exercice 2\n",
    "\n",
    "Dans cet exercice, vous devrez charger les données météorologiques enregistrées à l'Aéroport Pierre-Elliot-Trudeau à Montréal et afficher les températures annuelles maximales. Les étapes sont les suivantes :\n",
    "\n",
    "1. Chargement du fichier de données.\n",
    "2. Récupération des années complètes uniquement.\n",
    "3. Extraction des températures annuelles maximales.\n",
    "4. Affichage des températures annuelles maximales en fonction des années.\n",
    "\n",
    "Avant tout, chargeons les librairies requises.\n"
   ]
  },
  {
   "cell_type": "code",
   "execution_count": 6,
   "metadata": {},
   "outputs": [
    {
     "name": "stderr",
     "output_type": "stream",
     "text": [
      "┌ Info: Loading DataFrames support into Gadfly.jl\n",
      "└ @ Gadfly /Users/jalbert/.julia/packages/Gadfly/09PWZ/src/mapping.jl:228\n"
     ]
    }
   ],
   "source": [
    "using DataFrames, CSV, Gadfly"
   ]
  },
  {
   "cell_type": "markdown",
   "metadata": {},
   "source": [
    "## 1. Chargement du fichier de données\n",
    "\n",
    "Le chargement du fichier de données se fait avec la fonction *CSV.read* de la librairie *CSV*. La variable de sortie sera un DataFrame."
   ]
  },
  {
   "cell_type": "code",
   "execution_count": 7,
   "metadata": {},
   "outputs": [
    {
     "data": {
      "text/html": [
       "<table class=\"data-frame\"><thead><tr><th></th><th>x</th><th>y</th><th>STATION_NAME</th><th>STN_ID</th><th>CLIMATE_IDENTIFIER</th></tr><tr><th></th><th>Float64</th><th>Float64</th><th>String</th><th>Int64</th><th>Int64</th></tr></thead><tbody><p>5 rows × 37 columns (omitted printing of 32 columns)</p><tr><th>1</th><td>-73.75</td><td>45.4667</td><td>MONTREAL/PIERRE ELLIOTT TRUDEAU INTL A</td><td>5415</td><td>7025250</td></tr><tr><th>2</th><td>-73.75</td><td>45.4667</td><td>MONTREAL/PIERRE ELLIOTT TRUDEAU INTL A</td><td>5415</td><td>7025250</td></tr><tr><th>3</th><td>-73.75</td><td>45.4667</td><td>MONTREAL/PIERRE ELLIOTT TRUDEAU INTL A</td><td>5415</td><td>7025250</td></tr><tr><th>4</th><td>-73.75</td><td>45.4667</td><td>MONTREAL/PIERRE ELLIOTT TRUDEAU INTL A</td><td>5415</td><td>7025250</td></tr><tr><th>5</th><td>-73.75</td><td>45.4667</td><td>MONTREAL/PIERRE ELLIOTT TRUDEAU INTL A</td><td>5415</td><td>7025250</td></tr></tbody></table>"
      ],
      "text/latex": [
       "\\begin{tabular}{r|cccccc}\n",
       "\t& x & y & STATION\\_NAME & STN\\_ID & CLIMATE\\_IDENTIFIER & \\\\\n",
       "\t\\hline\n",
       "\t& Float64 & Float64 & String & Int64 & Int64 & \\\\\n",
       "\t\\hline\n",
       "\t1 & -73.75 & 45.4667 & MONTREAL/PIERRE ELLIOTT TRUDEAU INTL A & 5415 & 7025250 & $\\dots$ \\\\\n",
       "\t2 & -73.75 & 45.4667 & MONTREAL/PIERRE ELLIOTT TRUDEAU INTL A & 5415 & 7025250 & $\\dots$ \\\\\n",
       "\t3 & -73.75 & 45.4667 & MONTREAL/PIERRE ELLIOTT TRUDEAU INTL A & 5415 & 7025250 & $\\dots$ \\\\\n",
       "\t4 & -73.75 & 45.4667 & MONTREAL/PIERRE ELLIOTT TRUDEAU INTL A & 5415 & 7025250 & $\\dots$ \\\\\n",
       "\t5 & -73.75 & 45.4667 & MONTREAL/PIERRE ELLIOTT TRUDEAU INTL A & 5415 & 7025250 & $\\dots$ \\\\\n",
       "\\end{tabular}\n"
      ],
      "text/plain": [
       "5×37 DataFrame. Omitted printing of 33 columns\n",
       "│ Row │ x       │ y       │ STATION_NAME                           │ STN_ID │\n",
       "│     │ \u001b[90mFloat64\u001b[39m │ \u001b[90mFloat64\u001b[39m │ \u001b[90mString\u001b[39m                                 │ \u001b[90mInt64\u001b[39m  │\n",
       "├─────┼─────────┼─────────┼────────────────────────────────────────┼────────┤\n",
       "│ 1   │ -73.75  │ 45.4667 │ MONTREAL/PIERRE ELLIOTT TRUDEAU INTL A │ 5415   │\n",
       "│ 2   │ -73.75  │ 45.4667 │ MONTREAL/PIERRE ELLIOTT TRUDEAU INTL A │ 5415   │\n",
       "│ 3   │ -73.75  │ 45.4667 │ MONTREAL/PIERRE ELLIOTT TRUDEAU INTL A │ 5415   │\n",
       "│ 4   │ -73.75  │ 45.4667 │ MONTREAL/PIERRE ELLIOTT TRUDEAU INTL A │ 5415   │\n",
       "│ 5   │ -73.75  │ 45.4667 │ MONTREAL/PIERRE ELLIOTT TRUDEAU INTL A │ 5415   │"
      ]
     },
     "execution_count": 7,
     "metadata": {},
     "output_type": "execute_result"
    }
   ],
   "source": [
    "data = CSV.read(\"meteoMontreal.csv\")\n",
    "first(data,5) #Permet d'afficher uniquement les 5 premières lignes du DataFrame"
   ]
  },
  {
   "cell_type": "markdown",
   "metadata": {},
   "source": [
    "## 2. Récupération des années complètes\n",
    "\n",
    "Pour que les maxima annuels aient du sens, il faut qu'ils soient pris sur l'année complète. Par exemple, on ne veut pas récupérer le maximum annuel d'une année où l'été n'a pas été enregistré. Pour la station en question, il faut retirer les années avant 1942 et après 2012."
   ]
  },
  {
   "cell_type": "code",
   "execution_count": null,
   "metadata": {},
   "outputs": [],
   "source": []
  },
  {
   "cell_type": "markdown",
   "metadata": {},
   "source": [
    "## 3.  Extraction des températures maximales annuelles\n",
    "\n",
    "Il y a plusieurs façons de procéder. Je vous propose d'utiliser la fonction *by()* de la librairie *DataFrame* pour manipuler aisément les données dans un DataFrame.\n",
    "\n",
    "Vous devrez également vous soucier des valeurs manquantes. Ici, je propose d'utiliser la fonction *skipmissing()* pour ignorer naïvement les valeurs manquantes."
   ]
  },
  {
   "cell_type": "code",
   "execution_count": null,
   "metadata": {},
   "outputs": [],
   "source": []
  },
  {
   "cell_type": "code",
   "execution_count": null,
   "metadata": {},
   "outputs": [],
   "source": []
  },
  {
   "cell_type": "markdown",
   "metadata": {},
   "source": [
    "## 4. Affichage des températures annuelles maximales en fonction des années.\n",
    "\n",
    "Lorsque les données à afficher sont dans un DataFrame, le traçage des graphiques est simple avec Gadfly. Il suffit de mentionner quelle colonne est le $x$ et quelle colonne est le $y$."
   ]
  },
  {
   "cell_type": "code",
   "execution_count": null,
   "metadata": {},
   "outputs": [],
   "source": []
  },
  {
   "cell_type": "code",
   "execution_count": null,
   "metadata": {},
   "outputs": [],
   "source": []
  }
 ],
 "metadata": {
  "@webio": {
   "lastCommId": null,
   "lastKernelId": null
  },
  "kernelspec": {
   "display_name": "Julia 1.3.1",
   "language": "julia",
   "name": "julia-1.3"
  },
  "language_info": {
   "file_extension": ".jl",
   "mimetype": "application/julia",
   "name": "julia",
   "version": "1.3.1"
  }
 },
 "nbformat": 4,
 "nbformat_minor": 2
}
