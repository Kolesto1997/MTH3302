{
 "cells": [
  {
   "cell_type": "markdown",
   "metadata": {},
   "source": [
    "# MTH3302 : Méthodes probabilistes et statistiques pour l'I.A.\n",
    "\n",
    "Jonathan Jalbert<br/>\n",
    "Professeur adjoint au Département de mathématiques et de génie industriel<br/>\n",
    "Polytechnique Montréal<br/>\n",
    "\n",
    "\n",
    "# TD2 - Régression linéaire\n",
    "\n",
    "Ce TD concerne la régression linéaire (Chapitre 2 du cours). À la fin de ce TD, vous devriez être avoir été en mesure de\n",
    "- Estimer les coefficients des paramères de régression avec la méthode des moindres carrés.\n",
    "- Valider les hypothèeses de régression à l'aide de l'analyse des résidus.\n",
    "- Tester l'importance de la régression.\n",
    "- Calculer des intervalles de confiances sur les coefficients et sur les prévisions.\n",
    "- Vérifier la présence de multicolinéarité. \n",
    "\n",
    "Pour les deux premiers exercices, je vous suggère de ne utiliser la librairie GLM pour bien comprendre tous les concepts. La librairie GLM peut être utilisée pour le troisième exercice."
   ]
  },
  {
   "cell_type": "code",
   "execution_count": 1,
   "metadata": {},
   "outputs": [
    {
     "name": "stderr",
     "output_type": "stream",
     "text": [
      "┌ Info: Loading DataFrames support into Gadfly.jl\n",
      "└ @ Gadfly C:\\Users\\massi\\.julia\\packages\\Gadfly\\09PWZ\\src\\mapping.jl:228\n"
     ]
    }
   ],
   "source": [
    "# Chargement des librairies\n",
    "using CSV, DataFrames, Gadfly, Statistics, LinearAlgebra"
   ]
  },
  {
   "cell_type": "markdown",
   "metadata": {},
   "source": [
    "# Exercice 1 - Pourcentage de gras\n",
    "\n",
    "Le pourcentage de gras est un indice de forme physique d'un individu. Or, la mesure de cet indice est assez difficile. Elle requiert l'immersion complète de l'individu dans un cylindre gradué rempli d'eau. \n",
    "\n",
    "Par conséquent, on souhaite savoir si on peut prédire le pourcentage de gras $Y$ avec trois mesures beaucoup plus simples à obtenir :\n",
    "\n",
    "$x_1$ : l'épaisseur des plis de la peau des triceps (en mm) ;<br/>\n",
    "$x_2$ : le tour de cuisse (en mm) ;<br/>\n",
    "$x_3$ : la circonférence du bras en (mm).<br/>\n",
    "\n",
    "Les mesures du fichier *bodyfat.csv* proviennent de 20 femmes en bonne santé, âgées entre 20 et 34 ans. "
   ]
  },
  {
   "cell_type": "code",
   "execution_count": 2,
   "metadata": {},
   "outputs": [
    {
     "data": {
      "text/html": [
       "<table class=\"data-frame\"><thead><tr><th></th><th>Triceps</th><th>Thigh</th><th>Midarm</th><th>Bodyfat</th></tr><tr><th></th><th>Float64</th><th>Float64</th><th>Float64</th><th>Float64</th></tr></thead><tbody><p>5 rows × 4 columns</p><tr><th>1</th><td>19.5</td><td>43.1</td><td>29.1</td><td>11.9</td></tr><tr><th>2</th><td>24.7</td><td>49.8</td><td>28.2</td><td>22.8</td></tr><tr><th>3</th><td>30.7</td><td>51.9</td><td>37.0</td><td>18.7</td></tr><tr><th>4</th><td>29.8</td><td>54.3</td><td>31.1</td><td>20.1</td></tr><tr><th>5</th><td>19.1</td><td>42.2</td><td>30.9</td><td>12.9</td></tr></tbody></table>"
      ],
      "text/latex": [
       "\\begin{tabular}{r|cccc}\n",
       "\t& Triceps & Thigh & Midarm & Bodyfat\\\\\n",
       "\t\\hline\n",
       "\t& Float64 & Float64 & Float64 & Float64\\\\\n",
       "\t\\hline\n",
       "\t1 & 19.5 & 43.1 & 29.1 & 11.9 \\\\\n",
       "\t2 & 24.7 & 49.8 & 28.2 & 22.8 \\\\\n",
       "\t3 & 30.7 & 51.9 & 37.0 & 18.7 \\\\\n",
       "\t4 & 29.8 & 54.3 & 31.1 & 20.1 \\\\\n",
       "\t5 & 19.1 & 42.2 & 30.9 & 12.9 \\\\\n",
       "\\end{tabular}\n"
      ],
      "text/plain": [
       "5×4 DataFrame\n",
       "│ Row │ Triceps │ Thigh   │ Midarm  │ Bodyfat │\n",
       "│     │ \u001b[90mFloat64\u001b[39m │ \u001b[90mFloat64\u001b[39m │ \u001b[90mFloat64\u001b[39m │ \u001b[90mFloat64\u001b[39m │\n",
       "├─────┼─────────┼─────────┼─────────┼─────────┤\n",
       "│ 1   │ 19.5    │ 43.1    │ 29.1    │ 11.9    │\n",
       "│ 2   │ 24.7    │ 49.8    │ 28.2    │ 22.8    │\n",
       "│ 3   │ 30.7    │ 51.9    │ 37.0    │ 18.7    │\n",
       "│ 4   │ 29.8    │ 54.3    │ 31.1    │ 20.1    │\n",
       "│ 5   │ 19.1    │ 42.2    │ 30.9    │ 12.9    │"
      ]
     },
     "execution_count": 2,
     "metadata": {},
     "output_type": "execute_result"
    }
   ],
   "source": [
    "# Chargement des données\n",
    "data = CSV.read(\"bodyfat.csv\")\n",
    "first(data,5)"
   ]
  },
  {
   "cell_type": "code",
   "execution_count": 3,
   "metadata": {},
   "outputs": [
    {
     "data": {
      "text/plain": [
       "DataFrame"
      ]
     },
     "execution_count": 3,
     "metadata": {},
     "output_type": "execute_result"
    }
   ],
   "source": [
    "typeof(data)"
   ]
  },
  {
   "cell_type": "markdown",
   "metadata": {},
   "source": [
    "## a) Affichage du pourcentage de graisse en fonction du tour de cuisse\n",
    "\n",
    "Tracer le nuage de points du pourcentage de graisse en fonction de $x_2$, le tour de cuisse. Est-ce qu'une relation linéaire semble appropriée ?"
   ]
  },
  {
   "cell_type": "code",
   "execution_count": null,
   "metadata": {},
   "outputs": [],
   "source": [
    "plot(data, x=:Thigh, y=:Bodyfat)"
   ]
  },
  {
   "cell_type": "code",
   "execution_count": null,
   "metadata": {},
   "outputs": [],
   "source": [
    "println(\"Oui, une relation lineaire semble appropriee.\")"
   ]
  },
  {
   "cell_type": "markdown",
   "metadata": {},
   "source": [
    "## b) Estimation des paramètres de la régression linéaire simple\n",
    "\n",
    "Estimez lez paramètres du modèle de régression linéaire entre le pourcentage de graisse et $x_2$, le tour de cuisse."
   ]
  },
  {
   "cell_type": "code",
   "execution_count": null,
   "metadata": {},
   "outputs": [],
   "source": [
    "x₂ = data[:, :Thigh]\n",
    "y = data[:, :Bodyfat]\n",
    "ȳ = mean(y)\n",
    "x̄ = mean(x₂)\n",
    "\n",
    "n = length(x₂)\n",
    "\n",
    "\n",
    "β̂₁ = sum( (x₂[i] - x̄)*(y[i] - ȳ) for i=1:n) / sum( (x₂[i] - x̄)^2 for i=1:n )\n",
    "\n",
    "β̂₀ = ȳ - β̂₁ * x̄;\n",
    "\n",
    "println(\"β̂₀ = $β̂₀\")\n",
    "println(\"β̂₁ = $β̂₁\")"
   ]
  },
  {
   "cell_type": "markdown",
   "metadata": {},
   "source": [
    "## c) Affichage de la droite de régression obtenue\n",
    "\n",
    "Superposez au nuage de points précédent la droite de régression estimée."
   ]
  },
  {
   "cell_type": "code",
   "execution_count": null,
   "metadata": {},
   "outputs": [],
   "source": [
    "x̂₂ = collect(range(minimum(x₂),stop=maximum(x₂),length=length(x₂)))\n",
    "ŷ = β̂₀ .+ β̂₁ * x̂₂;\n",
    "\n",
    "#plot(x=x̂₂, y=ŷ)\n",
    "sample = layer( x=x₂, y=y, Geom.point, Theme(default_color=\"deepskyblue\"))\n",
    "regression = layer( x=x̂₂, y=ŷ, Geom.line, Theme(default_color=\"red\"))\n",
    "\n",
    "plot(sample,regression,\n",
    "    Guide.manual_color_key(\"Légende\", [\"Échantillon\", \"Régression\"], [\"deepskyblue\",\"red\"]),\n",
    "    Guide.xlabel(\"Tour de cuisse (cm)\"), Guide.ylabel(\"Pourcentage de gras (%)\"))"
   ]
  },
  {
   "cell_type": "markdown",
   "metadata": {},
   "source": [
    "## d) Calul du $R^2$ ajusté et du $R^2$ de prévision.\n",
    "\n",
    "Calculez pour le modèle de régression linéaire simple défini en (b) :\n",
    "- le $R^2$ ajusté ;\n",
    "- le $R^2$ de prévision."
   ]
  },
  {
   "cell_type": "code",
   "execution_count": null,
   "metadata": {},
   "outputs": [],
   "source": [
    "# prevision\n",
    "x₂ = convert(Array{Float64},data[!,:Thigh])\n",
    "ŷ = β̂₀ .+ β̂₁ * x₂\n",
    "\n",
    "\n",
    "ẽ = y - ŷ\n",
    "\n",
    "\n",
    "SST = sum( (y[i] - ȳ)^2 for i=1:n)\n",
    "println(\"SST = $SST\")\n",
    "SSE = sum( (ẽ).^2)\n",
    "println(\"SSE = $SSE\")\n",
    "SSR = sum( (ŷ[i] - ȳ)^2 for i=1:n)\n",
    "\n",
    "# nombre de variables explicatives\n",
    "p = 1\n",
    "R²ₐⱼ = 1 - (SSE / (n - p)) / (SST / (n - 1))\n",
    "\n",
    "println(\"R²ₐⱼ = $R²ₐⱼ\")\n",
    "R²ₐⱼ = R²ₐⱼ * 100\n",
    "println(\"On explique environ $R²ₐⱼ% de la variance des resultats\")"
   ]
  },
  {
   "cell_type": "code",
   "execution_count": null,
   "metadata": {},
   "outputs": [],
   "source": [
    "R²ₚᵣₑᵥ = 1 - (sum( (y[i] - ŷ[i])^2 for i=1:n)) / sum( (y[i] - ȳ)^2 for i=1:n)\n",
    "println(\"R²ₚᵣₑᵥ = $R²ₚᵣₑᵥ\")\n",
    "#R²ₚᵣₑᵥ = R²ₚᵣₑᵥ * 100\n",
    "println(\"Nous sommes tres proche de la valeur parfait de 1 avec $R²ₚᵣₑᵥ \")"
   ]
  },
  {
   "cell_type": "markdown",
   "metadata": {},
   "source": [
    "## e) Vérification de la multicolinéarité \n",
    "\n",
    "Si toutes les variables explicatives sont utilisées, vérifiez s'il y a présence de multicolinéarité."
   ]
  },
  {
   "cell_type": "code",
   "execution_count": null,
   "metadata": {},
   "outputs": [],
   "source": [
    "function check_multicol(X::Array{T,2} where T<:Real)\n",
    "   \n",
    "    # Standardize first the explanatory variables\n",
    "    m = mean(X, dims=1)\n",
    "    s = std(X, dims=1)\n",
    "    \n",
    "    m[1] = 0\n",
    "    s[1] = 1\n",
    "    \n",
    "    X̃ = (X .- m) ./s\n",
    "    \n",
    "    \n",
    "    # compute the singular values\n",
    "    λ = svdvals(X̃)\n",
    "    # Calculer les valeurs singulières de X est plus efficace que calculer les valeurs propres de X'X\n",
    "    \n",
    "    # Coompute the multicollinearity index\n",
    "    ϕ = maximum(λ) / minimum(λ)\n",
    "    \n",
    "    if ϕ > 30\n",
    "        multicol = true\n",
    "    else\n",
    "        multicol = false\n",
    "    end\n",
    "    \n",
    "    return multicol\n",
    "end"
   ]
  },
  {
   "cell_type": "code",
   "execution_count": null,
   "metadata": {},
   "outputs": [],
   "source": []
  },
  {
   "cell_type": "markdown",
   "metadata": {},
   "source": [
    "## f) Régression avec l'épaisseur du pli du triceps et la circonférence du bras\n",
    "\n",
    "Estimez les paramètres du modèle de régression utilisant l'épaisseur du pli du triceps et la circonférence du bras comme variables explicatives."
   ]
  },
  {
   "cell_type": "code",
   "execution_count": null,
   "metadata": {},
   "outputs": [],
   "source": []
  },
  {
   "cell_type": "markdown",
   "metadata": {},
   "source": [
    "## g) Validation des hypothèses de la régression\n",
    "\n",
    "Tracez les résidus en fonction des prévisions. Est-ce que les hypothèses de la régression semblent satisfaites ?"
   ]
  },
  {
   "cell_type": "code",
   "execution_count": null,
   "metadata": {},
   "outputs": [],
   "source": []
  },
  {
   "cell_type": "markdown",
   "metadata": {},
   "source": [
    "## h) Calul du $R^2$ ajusté et du $R^2$ de prévision.\n",
    "\n",
    "Calculez pour le modèle de régression linéaire simple défini en (f) :\n",
    "- le $R^2$ ajusté ;\n",
    "- le $R^2$ de prévision."
   ]
  },
  {
   "cell_type": "code",
   "execution_count": null,
   "metadata": {},
   "outputs": [],
   "source": []
  },
  {
   "cell_type": "code",
   "execution_count": null,
   "metadata": {},
   "outputs": [],
   "source": []
  },
  {
   "cell_type": "markdown",
   "metadata": {},
   "source": [
    "## i) Sélection de modèle\n",
    "\n",
    "Lequel des modèles définis en (b) et (f) est le meilleur ? Justifiez."
   ]
  },
  {
   "cell_type": "markdown",
   "metadata": {},
   "source": [
    "Ça dépend du critère. Si on intéressé à la prévision, alors le meilleur modèle est celui utilisant uniquement le tour de cuisse car son $R^2$ de prévision est supérieur.\n"
   ]
  },
  {
   "cell_type": "markdown",
   "metadata": {},
   "source": [
    "# Exercice 2 - Notes de MTH2302B\n",
    "\n",
    "\n",
    "Le jeu de données *notes.csv}* compile les notes obtenues aux deux contrôles périodiques et au final des 91 étudiants inscrits dans mes sections du cours MTH2302B pour les sessions A2017 et H2018. Durant la session d'automne, la majorité des étudiants provenait de génie chimique et génie biomédical tandis qu'à la session d'hiver, les étudiant provenaient majoritairement de génie mécanique et de génie aérospatial.\n",
    "\n",
    "On souhaite déterminer s'il existe une relation linéaire entre la note au final ($Y$) et la note au premier contrôle ($X_1$) et la note au deuxième contrôle ($X_2$).\n"
   ]
  },
  {
   "cell_type": "code",
   "execution_count": null,
   "metadata": {},
   "outputs": [],
   "source": [
    "# Chargement des librairies\n",
    "using CSV, DataFrames, Gadfly, Statistics, LinearAlgebra, Distributions"
   ]
  },
  {
   "cell_type": "code",
   "execution_count": null,
   "metadata": {},
   "outputs": [],
   "source": [
    "# Chargement des données\n",
    "data = CSV.read(\"notes.csv\")\n",
    "first(data,5)"
   ]
  },
  {
   "cell_type": "markdown",
   "metadata": {},
   "source": [
    "## a) Estimation des paramètres du modèle de régression\n",
    "\n",
    "Estimez les paramètres du modèle de régression :\n",
    "$$Y = \\beta_0 + \\beta_1 x_1 + \\beta_2 x_2 + \\epsilon.$$"
   ]
  },
  {
   "cell_type": "code",
   "execution_count": null,
   "metadata": {},
   "outputs": [],
   "source": []
  },
  {
   "cell_type": "markdown",
   "metadata": {},
   "source": [
    "## b) Validation des hypothèses de la régression\n",
    "\n",
    "Validez les hypothèses de la régression avec le graphique des résidus"
   ]
  },
  {
   "cell_type": "code",
   "execution_count": null,
   "metadata": {},
   "outputs": [],
   "source": []
  },
  {
   "cell_type": "markdown",
   "metadata": {},
   "source": [
    "## c) Test sur l'importance de la régression\n",
    "\n",
    "Testez au seuil de 5% si au moins une des variables explicatives possède un pouvoir prédictif significatif."
   ]
  },
  {
   "cell_type": "code",
   "execution_count": null,
   "metadata": {},
   "outputs": [],
   "source": []
  },
  {
   "cell_type": "markdown",
   "metadata": {},
   "source": [
    "## d) Est-ce que la session à laquelle les étudiants étaient inscrits joue un rôle  significatif ?"
   ]
  },
  {
   "cell_type": "code",
   "execution_count": null,
   "metadata": {},
   "outputs": [],
   "source": []
  },
  {
   "cell_type": "code",
   "execution_count": null,
   "metadata": {},
   "outputs": [],
   "source": []
  },
  {
   "cell_type": "markdown",
   "metadata": {},
   "source": [
    "## e) Prévision de la note au final.\n",
    "\n",
    "Supposons qu'un étudiant ait obtenu les notes de $13/20$ et de $15/20$ respectivement aux deux premiers contrôles périodiques:\n",
    "\n",
    " - $x_1 = 13/20$;\n",
    " - $x_2 = 15/20$.\n",
    "\n",
    "Obtenez les estimations de sa note au final s'il était inscrit à la session A2017 et s'il était inscrit à la session H2018."
   ]
  },
  {
   "cell_type": "code",
   "execution_count": null,
   "metadata": {},
   "outputs": [],
   "source": []
  },
  {
   "cell_type": "markdown",
   "metadata": {},
   "source": [
    "# Exercice 3 - Résistance au cisaillement\n",
    "\n",
    "Le jeu de données *visco.csv* contient la résistance au cisaillement (en kPa) d'un composé de caoutchouc en fonction de la température de durcissement (en degré Celcius). \n",
    "\n",
    "Pour cet exercice, utilisez la librairie GLM."
   ]
  },
  {
   "cell_type": "code",
   "execution_count": null,
   "metadata": {},
   "outputs": [],
   "source": [
    "using CSV, DataFrames, Gadfly, Statistics, LinearAlgebra, GLM"
   ]
  },
  {
   "cell_type": "code",
   "execution_count": null,
   "metadata": {},
   "outputs": [],
   "source": [
    "# chargement des données\n",
    "data = CSV.read(\"viscosite.csv\")"
   ]
  },
  {
   "cell_type": "code",
   "execution_count": null,
   "metadata": {},
   "outputs": [],
   "source": [
    "# Changement du nom de la variable pour faciliter la manipulation\n",
    "rename!(data, :Temperature => :T)"
   ]
  },
  {
   "cell_type": "markdown",
   "metadata": {},
   "source": [
    "## a) Affichage de la résistance au cisaillement en fonction de la température\n",
    "\n",
    "Affichez la résistance au cisaillement en fonction de la température."
   ]
  },
  {
   "cell_type": "code",
   "execution_count": null,
   "metadata": {},
   "outputs": [],
   "source": []
  },
  {
   "cell_type": "markdown",
   "metadata": {},
   "source": [
    "## b) Estimez les paramètres du modèle linéaire et calculez le $R^2$ ajusté"
   ]
  },
  {
   "cell_type": "code",
   "execution_count": null,
   "metadata": {},
   "outputs": [],
   "source": []
  },
  {
   "cell_type": "markdown",
   "metadata": {},
   "source": [
    "## c) Estimez les paramètres du modèle quadratique et calculez le $R^2$ ajusté"
   ]
  },
  {
   "cell_type": "code",
   "execution_count": null,
   "metadata": {},
   "outputs": [],
   "source": []
  },
  {
   "cell_type": "markdown",
   "metadata": {},
   "source": [
    "## d) Estimez les paramètres du modèle cubique et calculez le $R^2$ ajusté"
   ]
  },
  {
   "cell_type": "code",
   "execution_count": null,
   "metadata": {},
   "outputs": [],
   "source": []
  }
 ],
 "metadata": {
  "@webio": {
   "lastCommId": null,
   "lastKernelId": null
  },
  "kernelspec": {
   "display_name": "Julia 1.3.1",
   "language": "julia",
   "name": "julia-1.3"
  },
  "language_info": {
   "file_extension": ".jl",
   "mimetype": "application/julia",
   "name": "julia",
   "version": "1.3.1"
  }
 },
 "nbformat": 4,
 "nbformat_minor": 2
}
